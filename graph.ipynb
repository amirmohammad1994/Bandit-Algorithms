{
 "cells": [
  {
   "cell_type": "code",
   "execution_count": 1,
   "metadata": {},
   "outputs": [],
   "source": [
    "import numpy as np\n",
    "import math\n",
    "def rand_gen():\n",
    "    number= np.random.random_sample()\n",
    "    if (number < 0.3333):\n",
    "        return (-1)\n",
    "    elif (number < 0.6666):\n",
    "        return (0)\n",
    "    else :\n",
    "        return (1)"
   ]
  },
  {
   "cell_type": "code",
   "execution_count": 2,
   "metadata": {},
   "outputs": [],
   "source": [
    "def randListGene(len):\n",
    "    l=[]\n",
    "    for i in range (0,len):\n",
    "        n = rand_gen()\n",
    "        l.append(n)\n",
    "    return l\n",
    "    "
   ]
  },
  {
   "cell_type": "code",
   "execution_count": 3,
   "metadata": {},
   "outputs": [],
   "source": [
    " class Person:\n",
    "    def __init__(self, lengthOfHistoryOfUser , number):\n",
    "        self.number = number\n",
    "        li=[]\n",
    "        for i in range (lengthOfHistoryOfUser):\n",
    "            n = rand_gen()\n",
    "            li.append(n)\n",
    "        self.historyOfUser = li"
   ]
  },
  {
   "cell_type": "code",
   "execution_count": 4,
   "metadata": {},
   "outputs": [],
   "source": [
    "class Network:\n",
    "    def __init__(self , numberOfPeople , lengthOfHistoryOfUser):\n",
    "        self.lengthOfHistoryOfUser = lengthOfHistoryOfUser\n",
    "        society = []\n",
    "        for i in range(numberOfPeople):\n",
    "            x = Person(lengthOfHistoryOfUser , i)\n",
    "            society.append(x)\n",
    "        self.society = society\n",
    "        self.numberOfPeople = numberOfPeople\n",
    "        \n",
    "        \n",
    "        \n",
    "    def similarity(self,p,q):\n",
    "        sum = 0\n",
    "        for i in range(lengthOfHistoryOfUser):\n",
    "            if (p.historyOfUser[i] == 1 and q.historyOfUser[i] == 1):\n",
    "                sum = sum + 1\n",
    "            elif (p.historyOfUser[i] == -1 and q.historyOfUser[i] == -1):\n",
    "                sum = sum + 0.01\n",
    "            elif (p.historyOfUser[i] == 1 and q.historyOfUser[i] == -1):\n",
    "                sum = sum - 0.1\n",
    "            elif (p.historyOfUser[i] == -1 and q.historyOfUser[i] == 1):\n",
    "                sum = sum - 0.1\n",
    "        return sum\n",
    "#building the probability matrix\n",
    "    def MatrixOfSimilarity(self):\n",
    "        ms = []\n",
    "        for i in range (self.numberOfPeople):\n",
    "            ll = []\n",
    "            sum = 0\n",
    "            for j in range (self.numberOfPeople):\n",
    "                ll.append(self.similarity(self.society[i] , self.society[j]))\n",
    "                sum = sum + math.exp(self.similarity(self.society[i] , self.society[j]))\n",
    "            for j in range (self.numberOfPeople):\n",
    "                ll[j] = (math.exp(ll[j])/sum)\n",
    "            ms.append(ll)\n",
    "        return ms\n",
    "    def prediction_by_ErdosRenyi(self,t,MatrixOfSimilarity):\n",
    "        a = randListGene(self.numberOfPeople)\n",
    "        pred = 0\n",
    "        for i in range(t):\n",
    "            pred = pred + (MatrixOfSimilarity[i][t] * a[i])\n",
    "        for i in range(t+1 , self.numberOfPeople):\n",
    "            pred = pred + (MatrixOfSimilarity[i][t] * a[i])\n",
    "        return pred\n",
    "    \n",
    "    #def prediction_by_BarabasiAlbert‬‬(t,MatrixOfSimilarity): \n",
    "        \n",
    "        \n",
    "        \n",
    "            "
   ]
  },
  {
   "cell_type": "code",
   "execution_count": 5,
   "metadata": {},
   "outputs": [],
   "source": [
    "numberOfUsers = 100\n",
    "#the historyOfUsers is the lenght of information of users that system stores\n",
    "lengthOfHistoryOfUser = 20\n"
   ]
  },
  {
   "cell_type": "code",
   "execution_count": 6,
   "metadata": {},
   "outputs": [
    {
     "name": "stdout",
     "output_type": "stream",
     "text": [
      "0.40378862608908217\n"
     ]
    }
   ],
   "source": [
    "n = Network(numberOfUsers , lengthOfHistoryOfUser)\n",
    "ms=n.MatrixOfSimilarity()\n",
    "result = n.prediction_by_ErdosRenyi(3,ms)\n",
    "print(result)"
   ]
  },
  {
   "cell_type": "markdown",
   "metadata": {},
   "source": [
    "هر چه عدد بالا به یک نزدیک تر باشد احتمال اینکه شخص کار مذکور را انجام دهد بیشتر می شود و هر چه به ۱- نزدیک تر باشد احنمال اینکه انتخاب نکند بیشتر میشود."
   ]
  },
  {
   "cell_type": "code",
   "execution_count": null,
   "metadata": {},
   "outputs": [],
   "source": []
  },
  {
   "cell_type": "code",
   "execution_count": null,
   "metadata": {},
   "outputs": [],
   "source": []
  },
  {
   "cell_type": "code",
   "execution_count": null,
   "metadata": {},
   "outputs": [],
   "source": []
  },
  {
   "cell_type": "code",
   "execution_count": null,
   "metadata": {},
   "outputs": [],
   "source": []
  }
 ],
 "metadata": {
  "kernelspec": {
   "display_name": "Python 3",
   "language": "python",
   "name": "python3"
  },
  "language_info": {
   "codemirror_mode": {
    "name": "ipython",
    "version": 3
   },
   "file_extension": ".py",
   "mimetype": "text/x-python",
   "name": "python",
   "nbconvert_exporter": "python",
   "pygments_lexer": "ipython3",
   "version": "3.7.6"
  }
 },
 "nbformat": 4,
 "nbformat_minor": 2
}
