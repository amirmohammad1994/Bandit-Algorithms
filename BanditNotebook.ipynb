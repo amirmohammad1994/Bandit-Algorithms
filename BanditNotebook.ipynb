{
 "cells": [
  {
   "cell_type": "code",
   "execution_count": 1,
   "metadata": {},
   "outputs": [],
   "source": [
    "import os\n",
    "import sys\n",
    "sys.path.insert(0, os.path.abspath('.'))"
   ]
  },
  {
   "cell_type": "markdown",
   "metadata": {},
   "source": [
    "#UBC1 \n",
    "تعداد گزینه ها را تغییر داده و بقیه پارامتر ها ثابت است.\n"
   ]
  },
  {
   "cell_type": "code",
   "execution_count": 2,
   "metadata": {},
   "outputs": [
    {
     "ename": "NameError",
     "evalue": "name 'ExploreThenExploit' is not defined",
     "output_type": "error",
     "traceback": [
      "\u001b[0;31m---------------------------------------------------------------------------\u001b[0m",
      "\u001b[0;31mNameError\u001b[0m                                 Traceback (most recent call last)",
      "\u001b[0;32m<ipython-input-2-3ecb29c3b96b>\u001b[0m in \u001b[0;36m<module>\u001b[0;34m\u001b[0m\n\u001b[1;32m     14\u001b[0m \u001b[0;34m\u001b[0m\u001b[0m\n\u001b[1;32m     15\u001b[0m \u001b[0;34m\u001b[0m\u001b[0m\n\u001b[0;32m---> 16\u001b[0;31m \u001b[0mexp_agent\u001b[0m \u001b[0;34m=\u001b[0m \u001b[0mExploreThenExploit\u001b[0m\u001b[0;34m(\u001b[0m\u001b[0mtime_horizon\u001b[0m\u001b[0;34m,\u001b[0m\u001b[0mnumber_of_arms\u001b[0m\u001b[0;34m,\u001b[0m\u001b[0mnumber_of_exploration_per_arm\u001b[0m\u001b[0;34m)\u001b[0m\u001b[0;34m\u001b[0m\u001b[0;34m\u001b[0m\u001b[0m\n\u001b[0m\u001b[1;32m     17\u001b[0m \u001b[0mepsilon_greedy_constant_epsilpn\u001b[0m \u001b[0;34m=\u001b[0m \u001b[0mEpsilonGreedy\u001b[0m\u001b[0;34m(\u001b[0m\u001b[0mtime_horizon\u001b[0m\u001b[0;34m,\u001b[0m\u001b[0mnumber_of_arms\u001b[0m\u001b[0;34m,\u001b[0m\u001b[0mnumber_of_exploration_per_arm\u001b[0m\u001b[0;34m*\u001b[0m\u001b[0mnumber_of_arms\u001b[0m\u001b[0;34m/\u001b[0m\u001b[0mtime_horizon\u001b[0m\u001b[0;34m*\u001b[0m\u001b[0mtime_horizon\u001b[0m\u001b[0;34m)\u001b[0m\u001b[0;34m\u001b[0m\u001b[0;34m\u001b[0m\u001b[0m\n\u001b[1;32m     18\u001b[0m \u001b[0mubc_agent\u001b[0m \u001b[0;34m=\u001b[0m \u001b[0mUBC1Agent\u001b[0m\u001b[0;34m(\u001b[0m\u001b[0mtime_horizon\u001b[0m\u001b[0;34m,\u001b[0m\u001b[0mnumber_of_arms\u001b[0m\u001b[0;34m)\u001b[0m\u001b[0;34m\u001b[0m\u001b[0;34m\u001b[0m\u001b[0m\n",
      "\u001b[0;31mNameError\u001b[0m: name 'ExploreThenExploit' is not defined"
     ]
    }
   ],
   "source": [
    "import enviroment\n",
    "\n",
    "n_sim = 40\n",
    "param ={\n",
    "\"time_horizon\" :  1000,\n",
    "\"number_of_arms\" : 10,\n",
    "\"number_of_exploration_per_arm\" : 100\n",
    "}\n",
    "\n",
    "results = []\n",
    "time_horizon = param['time_horizon']\n",
    "number_of_arms = param['number_of_arms']\n",
    "number_of_exploration_per_arm = param['number_of_exploration_per_arm']\n",
    "\n",
    "\n",
    "exp_agent = ExploreThenExploit(time_horizon,number_of_arms,number_of_exploration_per_arm)\n",
    "epsilon_greedy_constant_epsilpn = EpsilonGreedy(time_horizon,number_of_arms,number_of_exploration_per_arm*number_of_arms/time_horizon*time_horizon)\n",
    "ubc_agent = UBC1Agent(time_horizon,number_of_arms)\n",
    "\n",
    "bandit = Bandit(time_horizon,number_of_arms,exp_agent)\n",
    "results.append(mc_simulate(n_sim,bandit))\n",
    "\n",
    "bandit = Bandit(time_horizon,number_of_arms,epsilon_greedy_constant_epsilpn)\n",
    "results.append(mc_simulate(n_sim,bandit))\n",
    "\n",
    "bandit = Bandit(time_horizon,number_of_arms,ubc_agent)\n",
    "results.append(mc_simulate(n_sim,bandit))\n",
    "\n",
    "plot(results,time_horizon,param)\n",
    "\n",
    "\n",
    "\n"
   ]
  },
  {
   "cell_type": "markdown",
   "metadata": {},
   "source": [
    "#تست همزمان چند الگوریتم\n",
    "##الگوریتم ها\n",
    "explore the expolit with parameter exploration_per_arm\n",
    "epsilon greedy با پارامتر اپسیلون برابر ۰.۵\n",
    "epsilon greedy با پارامتر اپسیلون برابر نسبت اکتشاف به بهره بری در الگوریتم اول\n",
    "ubc1\n",
    "\n",
    "به ازای ده دسته پارامتر مختلف که بالای هر نمودار نوشته شده و تقریبا هر پارامتری در مسئله عوض می شود همه الگوریتم ها را تست کردیم و نمودار پشیمانی و پاداش رسم شده است.\n",
    "\n",
    "##نتیجه\n",
    "\n",
    "همواره ubc1 بهتر عمل میکند\n"
   ]
  },
  {
   "cell_type": "code",
   "execution_count": null,
   "metadata": {},
   "outputs": [],
   "source": [
    "import main"
   ]
  },
  {
   "cell_type": "code",
   "execution_count": null,
   "metadata": {},
   "outputs": [],
   "source": []
  }
 ],
 "metadata": {
  "kernelspec": {
   "display_name": "Python 3",
   "language": "python",
   "name": "python3"
  },
  "language_info": {
   "codemirror_mode": {
    "name": "ipython",
    "version": 3
   },
   "file_extension": ".py",
   "mimetype": "text/x-python",
   "name": "python",
   "nbconvert_exporter": "python",
   "pygments_lexer": "ipython3",
   "version": "3.7.6"
  }
 },
 "nbformat": 4,
 "nbformat_minor": 4
}
